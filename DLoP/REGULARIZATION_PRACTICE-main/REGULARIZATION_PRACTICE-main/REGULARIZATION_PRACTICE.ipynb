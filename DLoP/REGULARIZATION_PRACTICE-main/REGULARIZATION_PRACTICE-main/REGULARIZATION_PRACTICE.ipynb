{
  "nbformat": 4,
  "nbformat_minor": 0,
  "metadata": {
    "colab": {
      "provenance": [],
      "authorship_tag": "ABX9TyMcOiqcgiPRKldunLRF59mT",
      "include_colab_link": true
    },
    "kernelspec": {
      "name": "python3",
      "display_name": "Python 3"
    },
    "language_info": {
      "name": "python"
    },
    "accelerator": "GPU",
    "gpuClass": "standard"
  },
  "cells": [
    {
      "cell_type": "markdown",
      "metadata": {
        "id": "view-in-github",
        "colab_type": "text"
      },
      "source": [
        "<a href=\"https://colab.research.google.com/github/Vladimir-Mezernyy/REGULARIZATION_PRACTICE/blob/main/REGULARIZATION_PRACTICE.ipynb\" target=\"_parent\"><img src=\"https://colab.research.google.com/assets/colab-badge.svg\" alt=\"Open In Colab\"/></a>"
      ]
    },
    {
      "cell_type": "code",
      "execution_count": 16,
      "metadata": {
        "id": "2N1HSNMjXCTV"
      },
      "outputs": [],
      "source": [
        "import tensorflow as tf\n",
        "import numpy as np\n",
        "import matplotlib.pyplot as plt\n"
      ]
    },
    {
      "cell_type": "code",
      "source": [
        "(train_data, train_labels), (test_data, test_labels) = tf.keras.datasets.reuters.load_data(num_words=10000)"
      ],
      "metadata": {
        "id": "om0QqwMtXbVV"
      },
      "execution_count": 17,
      "outputs": []
    },
    {
      "cell_type": "code",
      "source": [
        "class_names = ['cocoa','grain','veg-oil','earn','acq','wheat','copper','housing','money-supply',\n",
        "'coffee','sugar','trade','reserves','ship','cotton','carcass','crude','nat-gas',\n",
        "'cpi','money-fx','interest','gnp','meal-feed','alum','oilseed','gold','tin',\n",
        "'strategic-metal','livestock','retail','ipi','iron-steel','rubber','heat','jobs',\n",
        "'lei','bop','zinc','orange','pet-chem','dlr','gas','silver','wpi','hog','lead']"
      ],
      "metadata": {
        "id": "B40bBXiSZLHJ"
      },
      "execution_count": 18,
      "outputs": []
    },
    {
      "cell_type": "code",
      "source": [
        "#one_hot_###_labels = oh#l\n",
        "ohtrl = tf.keras.utils.to_categorical(train_labels)\n",
        "ohtel = tf.keras.utils.to_categorical(test_labels)"
      ],
      "metadata": {
        "id": "23FqUo0TY-GH"
      },
      "execution_count": 31,
      "outputs": []
    },
    {
      "cell_type": "code",
      "source": [
        "def vectorize_sequences(sequences, dimension=10000):\n",
        "  results = np.zeros((len(sequences), dimension))\n",
        "  for i, sequence in enumerate(sequences):\n",
        "    results[i, sequence] = 1. \n",
        "  return results\n",
        "\n",
        "x_train = vectorize_sequences(train_data)\n",
        "x_test = vectorize_sequences(test_data)\n",
        "\n",
        "x_val = x_train[:1000]\n",
        "partial_x_train = x_train[1000:]\n",
        "y_val = ohtrl[:1000]\n",
        "partial_y_train = ohtrl[1000:]\n"
      ],
      "metadata": {
        "id": "F6bpd0I_dSAl"
      },
      "execution_count": 35,
      "outputs": []
    },
    {
      "cell_type": "code",
      "source": [
        "bad_model = tf.keras.Sequential([\n",
        "    tf.keras.layers.Dense(1024, activation='relu', input_shape=(10000,)),\n",
        "    tf.keras.layers.Dense(2048, activation='relu'),\n",
        "    tf.keras.layers.Dense(2048, activation='relu'),\n",
        "    tf.keras.layers.Dense(2048, activation='relu'),\n",
        "    tf.keras.layers.Dense(2048, activation='relu'),\n",
        "    tf.keras.layers.Dense(46, activation='softmax')\n",
        "])\n",
        "bad_model.compile(optimizer='rmsprop', loss='categorical_crossentropy', metrics=['acc'])\n",
        "\n",
        "bad_history = bad_model.fit(partial_x_train,\n",
        "              partial_y_train,\n",
        "              epochs=20,\n",
        "              batch_size=128,\n",
        "              validation_data=(x_val, y_val)\n",
        "              )"
      ],
      "metadata": {
        "colab": {
          "base_uri": "https://localhost:8080/"
        },
        "id": "rJtQWKUWdXr_",
        "outputId": "64ac5262-188a-4784-a4b9-b6148f8e6296"
      },
      "execution_count": 40,
      "outputs": [
        {
          "output_type": "stream",
          "name": "stdout",
          "text": [
            "Epoch 1/20\n",
            "63/63 [==============================] - 2s 16ms/step - loss: 2.4060 - acc: 0.4778 - val_loss: 1.5750 - val_acc: 0.6190\n",
            "Epoch 2/20\n",
            "63/63 [==============================] - 1s 11ms/step - loss: 1.3193 - acc: 0.6719 - val_loss: 1.2219 - val_acc: 0.7030\n",
            "Epoch 3/20\n",
            "63/63 [==============================] - 1s 10ms/step - loss: 0.9379 - acc: 0.7557 - val_loss: 1.1549 - val_acc: 0.7230\n",
            "Epoch 4/20\n",
            "63/63 [==============================] - 1s 11ms/step - loss: 0.6883 - acc: 0.8156 - val_loss: 1.1701 - val_acc: 0.7290\n",
            "Epoch 5/20\n",
            "63/63 [==============================] - 1s 11ms/step - loss: 0.5309 - acc: 0.8527 - val_loss: 1.2431 - val_acc: 0.7480\n",
            "Epoch 6/20\n",
            "63/63 [==============================] - 1s 11ms/step - loss: 0.4296 - acc: 0.8768 - val_loss: 1.2661 - val_acc: 0.7590\n",
            "Epoch 7/20\n",
            "63/63 [==============================] - 1s 10ms/step - loss: 0.3584 - acc: 0.8991 - val_loss: 1.3290 - val_acc: 0.7710\n",
            "Epoch 8/20\n",
            "63/63 [==============================] - 1s 11ms/step - loss: 0.2852 - acc: 0.9172 - val_loss: 1.5094 - val_acc: 0.7680\n",
            "Epoch 9/20\n",
            "63/63 [==============================] - 1s 11ms/step - loss: 0.2435 - acc: 0.9241 - val_loss: 1.6048 - val_acc: 0.7870\n",
            "Epoch 10/20\n",
            "63/63 [==============================] - 1s 11ms/step - loss: 0.1979 - acc: 0.9391 - val_loss: 1.7054 - val_acc: 0.7950\n",
            "Epoch 11/20\n",
            "63/63 [==============================] - 1s 11ms/step - loss: 0.1694 - acc: 0.9456 - val_loss: 1.7759 - val_acc: 0.7570\n",
            "Epoch 12/20\n",
            "63/63 [==============================] - 1s 12ms/step - loss: 0.1624 - acc: 0.9448 - val_loss: 1.7824 - val_acc: 0.7830\n",
            "Epoch 13/20\n",
            "63/63 [==============================] - 1s 12ms/step - loss: 0.1372 - acc: 0.9524 - val_loss: 2.1669 - val_acc: 0.7790\n",
            "Epoch 14/20\n",
            "63/63 [==============================] - 1s 13ms/step - loss: 0.1193 - acc: 0.9560 - val_loss: 1.9066 - val_acc: 0.7930\n",
            "Epoch 15/20\n",
            "63/63 [==============================] - 1s 11ms/step - loss: 0.1082 - acc: 0.9545 - val_loss: 2.0027 - val_acc: 0.7900\n",
            "Epoch 16/20\n",
            "63/63 [==============================] - 1s 11ms/step - loss: 0.0993 - acc: 0.9575 - val_loss: 1.9754 - val_acc: 0.7880\n",
            "Epoch 17/20\n",
            "63/63 [==============================] - 1s 11ms/step - loss: 0.0921 - acc: 0.9588 - val_loss: 1.8430 - val_acc: 0.7570\n",
            "Epoch 18/20\n",
            "63/63 [==============================] - 1s 11ms/step - loss: 0.0899 - acc: 0.9603 - val_loss: 2.1219 - val_acc: 0.7840\n",
            "Epoch 19/20\n",
            "63/63 [==============================] - 1s 11ms/step - loss: 0.0867 - acc: 0.9603 - val_loss: 2.0828 - val_acc: 0.7910\n",
            "Epoch 20/20\n",
            "63/63 [==============================] - 1s 10ms/step - loss: 0.0931 - acc: 0.9587 - val_loss: 1.7953 - val_acc: 0.7990\n"
          ]
        }
      ]
    },
    {
      "cell_type": "code",
      "source": [
        "base_model = tf.keras.Sequential([\n",
        "    tf.keras.layers.Dense(64, activation='relu', input_shape=(10000,)),\n",
        "    tf.keras.layers.Dense(64, activation='relu'),\n",
        "    tf.keras.layers.Dense(46, activation='softmax')\n",
        "])\n",
        "base_model.compile(optimizer='rmsprop', loss='categorical_crossentropy', metrics=['acc'])\n",
        "\n",
        "base_history = base_model.fit(partial_x_train,\n",
        "              partial_y_train,\n",
        "              epochs=20,\n",
        "              batch_size=128,\n",
        "              validation_data=(x_val, y_val)\n",
        "              )"
      ],
      "metadata": {
        "colab": {
          "base_uri": "https://localhost:8080/"
        },
        "id": "7Q0JkS7leRPa",
        "outputId": "f2f0cb1e-4df4-47f4-8e0d-7200b6315c43"
      },
      "execution_count": 41,
      "outputs": [
        {
          "output_type": "stream",
          "name": "stdout",
          "text": [
            "Epoch 1/20\n",
            "63/63 [==============================] - 2s 9ms/step - loss: 1.8213 - acc: 0.6267 - val_loss: 1.2316 - val_acc: 0.7220\n",
            "Epoch 2/20\n",
            "63/63 [==============================] - 0s 6ms/step - loss: 0.9877 - acc: 0.7821 - val_loss: 1.0290 - val_acc: 0.7660\n",
            "Epoch 3/20\n",
            "63/63 [==============================] - 0s 6ms/step - loss: 0.6733 - acc: 0.8567 - val_loss: 0.9123 - val_acc: 0.8010\n",
            "Epoch 4/20\n",
            "63/63 [==============================] - 0s 6ms/step - loss: 0.4727 - acc: 0.9003 - val_loss: 0.8638 - val_acc: 0.8180\n",
            "Epoch 5/20\n",
            "63/63 [==============================] - 0s 6ms/step - loss: 0.3403 - acc: 0.9260 - val_loss: 0.8331 - val_acc: 0.8210\n",
            "Epoch 6/20\n",
            "63/63 [==============================] - 0s 6ms/step - loss: 0.2646 - acc: 0.9419 - val_loss: 0.8909 - val_acc: 0.8170\n",
            "Epoch 7/20\n",
            "63/63 [==============================] - 0s 6ms/step - loss: 0.2168 - acc: 0.9465 - val_loss: 0.9065 - val_acc: 0.8180\n",
            "Epoch 8/20\n",
            "63/63 [==============================] - 0s 7ms/step - loss: 0.1886 - acc: 0.9499 - val_loss: 0.9112 - val_acc: 0.8110\n",
            "Epoch 9/20\n",
            "63/63 [==============================] - 0s 6ms/step - loss: 0.1750 - acc: 0.9505 - val_loss: 0.9268 - val_acc: 0.8120\n",
            "Epoch 10/20\n",
            "63/63 [==============================] - 0s 6ms/step - loss: 0.1566 - acc: 0.9540 - val_loss: 1.0245 - val_acc: 0.7840\n",
            "Epoch 11/20\n",
            "63/63 [==============================] - 1s 9ms/step - loss: 0.1508 - acc: 0.9545 - val_loss: 0.9841 - val_acc: 0.7930\n",
            "Epoch 12/20\n",
            "63/63 [==============================] - 1s 8ms/step - loss: 0.1441 - acc: 0.9563 - val_loss: 0.9712 - val_acc: 0.8060\n",
            "Epoch 13/20\n",
            "63/63 [==============================] - 1s 9ms/step - loss: 0.1357 - acc: 0.9565 - val_loss: 1.0534 - val_acc: 0.8000\n",
            "Epoch 14/20\n",
            "63/63 [==============================] - 1s 8ms/step - loss: 0.1351 - acc: 0.9575 - val_loss: 1.0447 - val_acc: 0.7960\n",
            "Epoch 15/20\n",
            "63/63 [==============================] - 0s 6ms/step - loss: 0.1294 - acc: 0.9545 - val_loss: 1.0205 - val_acc: 0.8060\n",
            "Epoch 16/20\n",
            "63/63 [==============================] - 0s 6ms/step - loss: 0.1275 - acc: 0.9564 - val_loss: 1.0192 - val_acc: 0.8090\n",
            "Epoch 17/20\n",
            "63/63 [==============================] - 0s 6ms/step - loss: 0.1290 - acc: 0.9570 - val_loss: 1.0287 - val_acc: 0.8070\n",
            "Epoch 18/20\n",
            "63/63 [==============================] - 0s 7ms/step - loss: 0.1225 - acc: 0.9553 - val_loss: 1.0158 - val_acc: 0.8100\n",
            "Epoch 19/20\n",
            "63/63 [==============================] - 0s 6ms/step - loss: 0.1202 - acc: 0.9567 - val_loss: 1.0780 - val_acc: 0.7980\n",
            "Epoch 20/20\n",
            "63/63 [==============================] - 0s 6ms/step - loss: 0.1179 - acc: 0.9580 - val_loss: 1.0308 - val_acc: 0.8120\n"
          ]
        }
      ]
    },
    {
      "cell_type": "code",
      "source": [
        "reg_model = tf.keras.Sequential([\n",
        "    tf.keras.layers.Dense(64, activation='relu', input_shape=(10000,)),\n",
        "    tf.keras.layers.Dropout(0.5),\n",
        "    tf.keras.layers.Dense(64, kernel_regularizer=tf.keras.regularizers.L1L2(), activation='relu'),\n",
        "    tf.keras.layers.Dense(46, activation='softmax')\n",
        "])\n",
        "reg_model.compile(optimizer='rmsprop', loss='categorical_crossentropy', metrics=['acc'])\n",
        "\n",
        "reg_history = reg_model.fit(partial_x_train,\n",
        "              partial_y_train,\n",
        "              epochs=20,\n",
        "              batch_size=128,\n",
        "              validation_data=(x_val, y_val)\n",
        "              )"
      ],
      "metadata": {
        "colab": {
          "base_uri": "https://localhost:8080/"
        },
        "id": "Uz-U0wDXeUFS",
        "outputId": "86f06a08-451a-491a-a8e8-43836ddcebf2"
      },
      "execution_count": 51,
      "outputs": [
        {
          "output_type": "stream",
          "name": "stdout",
          "text": [
            "Epoch 1/20\n",
            "63/63 [==============================] - 1s 10ms/step - loss: 2.1064 - acc: 0.5392 - val_loss: 1.4046 - val_acc: 0.6820\n",
            "Epoch 2/20\n",
            "63/63 [==============================] - 0s 6ms/step - loss: 1.3399 - acc: 0.6897 - val_loss: 1.1856 - val_acc: 0.7230\n",
            "Epoch 3/20\n",
            "63/63 [==============================] - 0s 6ms/step - loss: 1.1058 - acc: 0.7415 - val_loss: 1.0630 - val_acc: 0.7650\n",
            "Epoch 4/20\n",
            "63/63 [==============================] - 0s 7ms/step - loss: 0.9406 - acc: 0.7800 - val_loss: 0.9942 - val_acc: 0.7800\n",
            "Epoch 5/20\n",
            "63/63 [==============================] - 1s 8ms/step - loss: 0.8103 - acc: 0.8131 - val_loss: 0.9310 - val_acc: 0.8020\n",
            "Epoch 6/20\n",
            "63/63 [==============================] - 0s 8ms/step - loss: 0.7060 - acc: 0.8359 - val_loss: 0.8866 - val_acc: 0.8050\n",
            "Epoch 7/20\n",
            "63/63 [==============================] - 1s 8ms/step - loss: 0.6112 - acc: 0.8538 - val_loss: 0.8669 - val_acc: 0.8260\n",
            "Epoch 8/20\n",
            "63/63 [==============================] - 1s 9ms/step - loss: 0.5331 - acc: 0.8776 - val_loss: 0.8622 - val_acc: 0.8190\n",
            "Epoch 9/20\n",
            "63/63 [==============================] - 0s 7ms/step - loss: 0.4796 - acc: 0.8893 - val_loss: 0.8618 - val_acc: 0.8250\n",
            "Epoch 10/20\n",
            "63/63 [==============================] - 0s 6ms/step - loss: 0.4203 - acc: 0.9004 - val_loss: 0.8641 - val_acc: 0.8210\n",
            "Epoch 11/20\n",
            "63/63 [==============================] - 0s 6ms/step - loss: 0.3807 - acc: 0.9090 - val_loss: 0.8772 - val_acc: 0.8210\n",
            "Epoch 12/20\n",
            "63/63 [==============================] - 0s 6ms/step - loss: 0.3597 - acc: 0.9157 - val_loss: 0.9016 - val_acc: 0.8250\n",
            "Epoch 13/20\n",
            "63/63 [==============================] - 0s 6ms/step - loss: 0.3300 - acc: 0.9188 - val_loss: 0.9067 - val_acc: 0.8360\n",
            "Epoch 14/20\n",
            "63/63 [==============================] - 0s 7ms/step - loss: 0.2908 - acc: 0.9297 - val_loss: 0.9422 - val_acc: 0.8330\n",
            "Epoch 15/20\n",
            "63/63 [==============================] - 0s 6ms/step - loss: 0.2915 - acc: 0.9291 - val_loss: 0.9485 - val_acc: 0.8230\n",
            "Epoch 16/20\n",
            "63/63 [==============================] - 0s 6ms/step - loss: 0.2758 - acc: 0.9307 - val_loss: 0.9273 - val_acc: 0.8310\n",
            "Epoch 17/20\n",
            "63/63 [==============================] - 0s 6ms/step - loss: 0.2543 - acc: 0.9386 - val_loss: 0.9939 - val_acc: 0.8170\n",
            "Epoch 18/20\n",
            "63/63 [==============================] - 0s 6ms/step - loss: 0.2543 - acc: 0.9365 - val_loss: 0.9959 - val_acc: 0.8230\n",
            "Epoch 19/20\n",
            "63/63 [==============================] - 0s 6ms/step - loss: 0.2360 - acc: 0.9382 - val_loss: 1.0172 - val_acc: 0.8260\n",
            "Epoch 20/20\n",
            "63/63 [==============================] - 0s 6ms/step - loss: 0.2315 - acc: 0.9390 - val_loss: 1.0279 - val_acc: 0.8170\n"
          ]
        }
      ]
    },
    {
      "cell_type": "code",
      "source": [
        "bad_loss = bad_history.history['loss']\n",
        "bad_val_loss = bad_history.history['val_loss']\n",
        "bad_acc = bad_history.history['acc']\n",
        "bad_val_acc = bad_history.history['val_acc']\n",
        "\n",
        "base_loss = base_history.history['loss']\n",
        "base_val_loss = base_history.history['val_loss']\n",
        "base_acc = base_history.history['acc']\n",
        "base_val_acc = base_history.history['val_acc']\n",
        "\n",
        "reg_loss = reg_history.history['loss']\n",
        "reg_val_loss = reg_history.history['val_loss']\n",
        "reg_acc = reg_history.history['acc']\n",
        "reg_val_acc = reg_history.history['val_acc']\n",
        "\n",
        "epochs = range(1, len(base_loss) + 1)\n",
        "\n",
        "plt.plot(epochs, bad_loss, 'ro', label='Потери тренировки bad')\n",
        "plt.plot(epochs, bad_val_loss, 'r', label='Потери проверки bad')\n",
        "plt.plot(epochs, base_loss, 'yo', label='Потери тренировки base')\n",
        "plt.plot(epochs, base_val_loss, 'y', label='Потери проверки base')\n",
        "plt.plot(epochs, reg_loss, 'go', label='Потери тренировки reg')\n",
        "plt.plot(epochs, reg_val_loss, 'g', label='Потери проверки reg')\n",
        "plt.title('Потери тренировки и проверки у моделей')\n",
        "plt.xlabel('Эпохи')\n",
        "plt.ylabel('Потери')\n",
        "plt.legend()\n"
      ],
      "metadata": {
        "colab": {
          "base_uri": "https://localhost:8080/",
          "height": 312
        },
        "id": "66O_6uDKegK4",
        "outputId": "875cf221-6a19-4f28-c4c4-637a5f6ee374"
      },
      "execution_count": 52,
      "outputs": [
        {
          "output_type": "execute_result",
          "data": {
            "text/plain": [
              "<matplotlib.legend.Legend at 0x7f587a0ae9a0>"
            ]
          },
          "metadata": {},
          "execution_count": 52
        },
        {
          "output_type": "display_data",
          "data": {
            "text/plain": [
              "<Figure size 432x288 with 1 Axes>"
            ],
            "image/png": "[encoded data removed]"
          },
          "metadata": {
            "needs_background": "light"
          }
        }
      ]
    }
  ]
}